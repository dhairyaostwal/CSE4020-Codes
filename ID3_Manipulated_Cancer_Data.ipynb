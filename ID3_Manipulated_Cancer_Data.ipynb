{
  "nbformat": 4,
  "nbformat_minor": 5,
  "metadata": {
    "kernelspec": {
      "display_name": "Python 3",
      "language": "python",
      "name": "python3"
    },
    "language_info": {
      "codemirror_mode": {
        "name": "ipython",
        "version": 3
      },
      "file_extension": ".py",
      "mimetype": "text/x-python",
      "name": "python",
      "nbconvert_exporter": "python",
      "pygments_lexer": "ipython3",
      "version": "3.8.8"
    },
    "colab": {
      "name": "ID3-Manipulated-Cancer-Data.ipynb",
      "provenance": [],
      "include_colab_link": true
    }
  },
  "cells": [
    {
      "cell_type": "markdown",
      "metadata": {
        "id": "view-in-github",
        "colab_type": "text"
      },
      "source": [
        "<a href=\"https://colab.research.google.com/github/dhairyaostwal/CSE4020-Codes/blob/main/ID3_Manipulated_Cancer_Data.ipynb\" target=\"_parent\"><img src=\"https://colab.research.google.com/assets/colab-badge.svg\" alt=\"Open In Colab\"/></a>"
      ]
    },
    {
      "cell_type": "markdown",
      "metadata": {
        "id": "e1a0a781"
      },
      "source": [
        "## Importing required Libraries"
      ],
      "id": "e1a0a781"
    },
    {
      "cell_type": "code",
      "metadata": {
        "id": "c67b09a2"
      },
      "source": [
        "import numpy as np\n",
        "import pandas as pd\n",
        "from sklearn.model_selection import train_test_split\n",
        "from sklearn.tree import DecisionTreeClassifier\n",
        "from sklearn.preprocessing import LabelEncoder # for encoding string labels"
      ],
      "id": "c67b09a2",
      "execution_count": 41,
      "outputs": []
    },
    {
      "cell_type": "code",
      "metadata": {
        "id": "jPXtTT4KXBZn",
        "colab": {
          "base_uri": "https://localhost:8080/",
          "height": 380
        },
        "outputId": "955f6be2-8dd7-4f2a-e274-2dc0be7ab0f4"
      },
      "source": [
        "dataset=pd.read_csv('cancer-data-manipulated - cancer-data.csv')\n",
        "print(\"The dataset is \")\n",
        "dataset"
      ],
      "id": "jPXtTT4KXBZn",
      "execution_count": 42,
      "outputs": [
        {
          "output_type": "stream",
          "name": "stdout",
          "text": [
            "The dataset is \n"
          ]
        },
        {
          "output_type": "execute_result",
          "data": {
            "text/html": [
              "\n",
              "  <div id=\"df-59691c06-469b-408c-976b-0a0d5438ab0d\">\n",
              "    <div class=\"colab-df-container\">\n",
              "      <div>\n",
              "<style scoped>\n",
              "    .dataframe tbody tr th:only-of-type {\n",
              "        vertical-align: middle;\n",
              "    }\n",
              "\n",
              "    .dataframe tbody tr th {\n",
              "        vertical-align: top;\n",
              "    }\n",
              "\n",
              "    .dataframe thead th {\n",
              "        text-align: right;\n",
              "    }\n",
              "</style>\n",
              "<table border=\"1\" class=\"dataframe\">\n",
              "  <thead>\n",
              "    <tr style=\"text-align: right;\">\n",
              "      <th></th>\n",
              "      <th>avg_cyt_re</th>\n",
              "      <th>avg_cyt_gr</th>\n",
              "      <th>avg_cyt_bl</th>\n",
              "      <th>Diagnosis</th>\n",
              "    </tr>\n",
              "  </thead>\n",
              "  <tbody>\n",
              "    <tr>\n",
              "      <th>0</th>\n",
              "      <td>130.713275</td>\n",
              "      <td>123.667915</td>\n",
              "      <td>145.271328</td>\n",
              "      <td>M</td>\n",
              "    </tr>\n",
              "    <tr>\n",
              "      <th>1</th>\n",
              "      <td>115.975610</td>\n",
              "      <td>67.243902</td>\n",
              "      <td>140.126016</td>\n",
              "      <td>B</td>\n",
              "    </tr>\n",
              "    <tr>\n",
              "      <th>2</th>\n",
              "      <td>135.955693</td>\n",
              "      <td>129.935312</td>\n",
              "      <td>144.863093</td>\n",
              "      <td>M</td>\n",
              "    </tr>\n",
              "    <tr>\n",
              "      <th>3</th>\n",
              "      <td>131.139544</td>\n",
              "      <td>122.655338</td>\n",
              "      <td>143.148741</td>\n",
              "      <td>M</td>\n",
              "    </tr>\n",
              "    <tr>\n",
              "      <th>4</th>\n",
              "      <td>150.808105</td>\n",
              "      <td>142.667461</td>\n",
              "      <td>176.097735</td>\n",
              "      <td>M</td>\n",
              "    </tr>\n",
              "    <tr>\n",
              "      <th>5</th>\n",
              "      <td>130.945142</td>\n",
              "      <td>91.728024</td>\n",
              "      <td>147.307336</td>\n",
              "      <td>B</td>\n",
              "    </tr>\n",
              "    <tr>\n",
              "      <th>6</th>\n",
              "      <td>90.649587</td>\n",
              "      <td>58.960331</td>\n",
              "      <td>96.546006</td>\n",
              "      <td>B</td>\n",
              "    </tr>\n",
              "    <tr>\n",
              "      <th>7</th>\n",
              "      <td>132.686975</td>\n",
              "      <td>126.090336</td>\n",
              "      <td>151.857143</td>\n",
              "      <td>M</td>\n",
              "    </tr>\n",
              "    <tr>\n",
              "      <th>8</th>\n",
              "      <td>143.154220</td>\n",
              "      <td>131.805585</td>\n",
              "      <td>163.624921</td>\n",
              "      <td>M</td>\n",
              "    </tr>\n",
              "    <tr>\n",
              "      <th>9</th>\n",
              "      <td>126.637787</td>\n",
              "      <td>112.096381</td>\n",
              "      <td>143.146486</td>\n",
              "      <td>B</td>\n",
              "    </tr>\n",
              "  </tbody>\n",
              "</table>\n",
              "</div>\n",
              "      <button class=\"colab-df-convert\" onclick=\"convertToInteractive('df-59691c06-469b-408c-976b-0a0d5438ab0d')\"\n",
              "              title=\"Convert this dataframe to an interactive table.\"\n",
              "              style=\"display:none;\">\n",
              "        \n",
              "  <svg xmlns=\"http://www.w3.org/2000/svg\" height=\"24px\"viewBox=\"0 0 24 24\"\n",
              "       width=\"24px\">\n",
              "    <path d=\"M0 0h24v24H0V0z\" fill=\"none\"/>\n",
              "    <path d=\"M18.56 5.44l.94 2.06.94-2.06 2.06-.94-2.06-.94-.94-2.06-.94 2.06-2.06.94zm-11 1L8.5 8.5l.94-2.06 2.06-.94-2.06-.94L8.5 2.5l-.94 2.06-2.06.94zm10 10l.94 2.06.94-2.06 2.06-.94-2.06-.94-.94-2.06-.94 2.06-2.06.94z\"/><path d=\"M17.41 7.96l-1.37-1.37c-.4-.4-.92-.59-1.43-.59-.52 0-1.04.2-1.43.59L10.3 9.45l-7.72 7.72c-.78.78-.78 2.05 0 2.83L4 21.41c.39.39.9.59 1.41.59.51 0 1.02-.2 1.41-.59l7.78-7.78 2.81-2.81c.8-.78.8-2.07 0-2.86zM5.41 20L4 18.59l7.72-7.72 1.47 1.35L5.41 20z\"/>\n",
              "  </svg>\n",
              "      </button>\n",
              "      \n",
              "  <style>\n",
              "    .colab-df-container {\n",
              "      display:flex;\n",
              "      flex-wrap:wrap;\n",
              "      gap: 12px;\n",
              "    }\n",
              "\n",
              "    .colab-df-convert {\n",
              "      background-color: #E8F0FE;\n",
              "      border: none;\n",
              "      border-radius: 50%;\n",
              "      cursor: pointer;\n",
              "      display: none;\n",
              "      fill: #1967D2;\n",
              "      height: 32px;\n",
              "      padding: 0 0 0 0;\n",
              "      width: 32px;\n",
              "    }\n",
              "\n",
              "    .colab-df-convert:hover {\n",
              "      background-color: #E2EBFA;\n",
              "      box-shadow: 0px 1px 2px rgba(60, 64, 67, 0.3), 0px 1px 3px 1px rgba(60, 64, 67, 0.15);\n",
              "      fill: #174EA6;\n",
              "    }\n",
              "\n",
              "    [theme=dark] .colab-df-convert {\n",
              "      background-color: #3B4455;\n",
              "      fill: #D2E3FC;\n",
              "    }\n",
              "\n",
              "    [theme=dark] .colab-df-convert:hover {\n",
              "      background-color: #434B5C;\n",
              "      box-shadow: 0px 1px 3px 1px rgba(0, 0, 0, 0.15);\n",
              "      filter: drop-shadow(0px 1px 2px rgba(0, 0, 0, 0.3));\n",
              "      fill: #FFFFFF;\n",
              "    }\n",
              "  </style>\n",
              "\n",
              "      <script>\n",
              "        const buttonEl =\n",
              "          document.querySelector('#df-59691c06-469b-408c-976b-0a0d5438ab0d button.colab-df-convert');\n",
              "        buttonEl.style.display =\n",
              "          google.colab.kernel.accessAllowed ? 'block' : 'none';\n",
              "\n",
              "        async function convertToInteractive(key) {\n",
              "          const element = document.querySelector('#df-59691c06-469b-408c-976b-0a0d5438ab0d');\n",
              "          const dataTable =\n",
              "            await google.colab.kernel.invokeFunction('convertToInteractive',\n",
              "                                                     [key], {});\n",
              "          if (!dataTable) return;\n",
              "\n",
              "          const docLinkHtml = 'Like what you see? Visit the ' +\n",
              "            '<a target=\"_blank\" href=https://colab.research.google.com/notebooks/data_table.ipynb>data table notebook</a>'\n",
              "            + ' to learn more about interactive tables.';\n",
              "          element.innerHTML = '';\n",
              "          dataTable['output_type'] = 'display_data';\n",
              "          await google.colab.output.renderOutput(dataTable, element);\n",
              "          const docLink = document.createElement('div');\n",
              "          docLink.innerHTML = docLinkHtml;\n",
              "          element.appendChild(docLink);\n",
              "        }\n",
              "      </script>\n",
              "    </div>\n",
              "  </div>\n",
              "  "
            ],
            "text/plain": [
              "   avg_cyt_re  avg_cyt_gr  avg_cyt_bl Diagnosis\n",
              "0  130.713275  123.667915  145.271328         M\n",
              "1  115.975610   67.243902  140.126016         B\n",
              "2  135.955693  129.935312  144.863093         M\n",
              "3  131.139544  122.655338  143.148741         M\n",
              "4  150.808105  142.667461  176.097735         M\n",
              "5  130.945142   91.728024  147.307336         B\n",
              "6   90.649587   58.960331   96.546006         B\n",
              "7  132.686975  126.090336  151.857143         M\n",
              "8  143.154220  131.805585  163.624921         M\n",
              "9  126.637787  112.096381  143.146486         B"
            ]
          },
          "metadata": {},
          "execution_count": 42
        }
      ]
    },
    {
      "cell_type": "markdown",
      "metadata": {
        "id": "6c67f491"
      },
      "source": [
        "## Loading Data"
      ],
      "id": "6c67f491"
    },
    {
      "cell_type": "code",
      "metadata": {
        "id": "01ef25db",
        "colab": {
          "base_uri": "https://localhost:8080/"
        },
        "outputId": "0f185d1e-a684-4afe-8bd6-a2a7f40a1904"
      },
      "source": [
        "data = pd.read_csv('cancer-data-manipulated - cancer-data.csv')\n",
        "print(\"Data is \")\n",
        "print(data)"
      ],
      "id": "01ef25db",
      "execution_count": 45,
      "outputs": [
        {
          "output_type": "stream",
          "name": "stdout",
          "text": [
            "Data is \n",
            "   avg_cyt_re  avg_cyt_gr  avg_cyt_bl Diagnosis\n",
            "0  130.713275  123.667915  145.271328         M\n",
            "1  115.975610   67.243902  140.126016         B\n",
            "2  135.955693  129.935312  144.863093         M\n",
            "3  131.139544  122.655338  143.148741         M\n",
            "4  150.808105  142.667461  176.097735         M\n",
            "5  130.945142   91.728024  147.307336         B\n",
            "6   90.649587   58.960331   96.546006         B\n",
            "7  132.686975  126.090336  151.857143         M\n",
            "8  143.154220  131.805585  163.624921         M\n",
            "9  126.637787  112.096381  143.146486         B\n"
          ]
        }
      ]
    },
    {
      "cell_type": "markdown",
      "metadata": {
        "id": "d8bd839c"
      },
      "source": [
        "## X - Values"
      ],
      "id": "d8bd839c"
    },
    {
      "cell_type": "code",
      "source": [
        "features = [feat for feat in data]\n",
        "features.remove(\"Diagnosis\")\n",
        "\n",
        "features"
      ],
      "metadata": {
        "colab": {
          "base_uri": "https://localhost:8080/"
        },
        "id": "_S3w450hqV8z",
        "outputId": "f870c7a3-bcad-4d1f-9073-075765153cf2"
      },
      "id": "_S3w450hqV8z",
      "execution_count": 47,
      "outputs": [
        {
          "output_type": "execute_result",
          "data": {
            "text/plain": [
              "['avg_cyt_re', 'avg_cyt_gr', 'avg_cyt_bl']"
            ]
          },
          "metadata": {},
          "execution_count": 47
        }
      ]
    },
    {
      "cell_type": "code",
      "source": [
        "X = data[features]\n",
        "print(X)"
      ],
      "metadata": {
        "colab": {
          "base_uri": "https://localhost:8080/"
        },
        "id": "V9TMcSfZqzpN",
        "outputId": "2672758d-3a45-4883-ed1a-e287f3919096"
      },
      "id": "V9TMcSfZqzpN",
      "execution_count": 48,
      "outputs": [
        {
          "output_type": "stream",
          "name": "stdout",
          "text": [
            "   avg_cyt_re  avg_cyt_gr  avg_cyt_bl\n",
            "0  130.713275  123.667915  145.271328\n",
            "1  115.975610   67.243902  140.126016\n",
            "2  135.955693  129.935312  144.863093\n",
            "3  131.139544  122.655338  143.148741\n",
            "4  150.808105  142.667461  176.097735\n",
            "5  130.945142   91.728024  147.307336\n",
            "6   90.649587   58.960331   96.546006\n",
            "7  132.686975  126.090336  151.857143\n",
            "8  143.154220  131.805585  163.624921\n",
            "9  126.637787  112.096381  143.146486\n"
          ]
        }
      ]
    },
    {
      "cell_type": "markdown",
      "metadata": {
        "id": "3d674f0b"
      },
      "source": [
        "## Y - Values"
      ],
      "id": "3d674f0b"
    },
    {
      "cell_type": "code",
      "metadata": {
        "id": "802d0b0c",
        "colab": {
          "base_uri": "https://localhost:8080/"
        },
        "outputId": "8f869615-fada-4139-b501-0ea921b78293"
      },
      "source": [
        "y = data['Diagnosis']\n",
        "print(\"The value of Y is\")\n",
        "print(y)"
      ],
      "id": "802d0b0c",
      "execution_count": 49,
      "outputs": [
        {
          "output_type": "stream",
          "name": "stdout",
          "text": [
            "The value of Y is\n",
            "0    M\n",
            "1    B\n",
            "2    M\n",
            "3    M\n",
            "4    M\n",
            "5    B\n",
            "6    B\n",
            "7    M\n",
            "8    M\n",
            "9    B\n",
            "Name: Diagnosis, dtype: object\n"
          ]
        }
      ]
    },
    {
      "cell_type": "markdown",
      "metadata": {
        "id": "dd6e641f"
      },
      "source": [
        "## Splitting data for training and testing"
      ],
      "id": "dd6e641f"
    },
    {
      "cell_type": "code",
      "metadata": {
        "id": "890f3deb"
      },
      "source": [
        "X_train, X_test, y_train, y_test = train_test_split(X, y, test_size = 0.25, random_state = 0)"
      ],
      "id": "890f3deb",
      "execution_count": 50,
      "outputs": []
    },
    {
      "cell_type": "markdown",
      "metadata": {
        "id": "23b42c24"
      },
      "source": [
        "## Creating object for model"
      ],
      "id": "23b42c24"
    },
    {
      "cell_type": "code",
      "metadata": {
        "id": "b96d9163",
        "colab": {
          "base_uri": "https://localhost:8080/"
        },
        "outputId": "dd575dc2-d6b1-4657-f698-6c20114513c0"
      },
      "source": [
        "from sklearn.tree import DecisionTreeClassifier\n",
        "\n",
        "classifier = DecisionTreeClassifier(criterion = 'entropy', random_state = 0) \n",
        "classifier.fit(X_train, y_train)"
      ],
      "id": "b96d9163",
      "execution_count": 51,
      "outputs": [
        {
          "output_type": "execute_result",
          "data": {
            "text/plain": [
              "DecisionTreeClassifier(criterion='entropy', random_state=0)"
            ]
          },
          "metadata": {},
          "execution_count": 51
        }
      ]
    },
    {
      "cell_type": "markdown",
      "metadata": {
        "id": "8da91bde"
      },
      "source": [
        "## Predicting Values"
      ],
      "id": "8da91bde"
    },
    {
      "cell_type": "code",
      "metadata": {
        "id": "afbe0177",
        "colab": {
          "base_uri": "https://localhost:8080/"
        },
        "outputId": "68e44137-974e-4b47-ad17-9a58b0e75b0b"
      },
      "source": [
        "print(\"Predicted values by model\")\n",
        "print(classifier.predict(X_test))\n",
        "print(\"Y-Test values\")\n",
        "print(y_test.values)"
      ],
      "id": "afbe0177",
      "execution_count": 52,
      "outputs": [
        {
          "output_type": "stream",
          "name": "stdout",
          "text": [
            "Predicted values by model\n",
            "['M' 'M' 'M']\n",
            "Y-Test values\n",
            "['M' 'M' 'M']\n"
          ]
        }
      ]
    },
    {
      "cell_type": "code",
      "source": [
        "y_pred = classifier.predict(X_test)"
      ],
      "metadata": {
        "id": "vlOG861mNgJ5"
      },
      "id": "vlOG861mNgJ5",
      "execution_count": 53,
      "outputs": []
    },
    {
      "cell_type": "code",
      "source": [
        "from sklearn.metrics import confusion_matrix\n",
        "cm = confusion_matrix(y_test, y_pred)\n",
        "cm"
      ],
      "metadata": {
        "colab": {
          "base_uri": "https://localhost:8080/"
        },
        "id": "HOOEf_YYNtyN",
        "outputId": "cc530ecf-84a9-4dbe-a5b8-6e009d0ad8ee"
      },
      "id": "HOOEf_YYNtyN",
      "execution_count": 54,
      "outputs": [
        {
          "output_type": "execute_result",
          "data": {
            "text/plain": [
              "array([[3]])"
            ]
          },
          "metadata": {},
          "execution_count": 54
        }
      ]
    },
    {
      "cell_type": "code",
      "metadata": {
        "id": "c3d94e5f",
        "colab": {
          "base_uri": "https://localhost:8080/"
        },
        "outputId": "a184b40c-3e6e-4d9e-e1b4-9294a70f1921"
      },
      "source": [
        "print(\"The score of model is\")\n",
        "print(classifier.score(X_test,y_test))"
      ],
      "id": "c3d94e5f",
      "execution_count": 55,
      "outputs": [
        {
          "output_type": "stream",
          "name": "stdout",
          "text": [
            "The score of model is\n",
            "1.0\n"
          ]
        }
      ]
    }
  ]
}