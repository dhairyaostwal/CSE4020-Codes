{
  "nbformat": 4,
  "nbformat_minor": 5,
  "metadata": {
    "kernelspec": {
      "display_name": "Python 3",
      "language": "python",
      "name": "python3"
    },
    "language_info": {
      "codemirror_mode": {
        "name": "ipython",
        "version": 3
      },
      "file_extension": ".py",
      "mimetype": "text/x-python",
      "name": "python",
      "nbconvert_exporter": "python",
      "pygments_lexer": "ipython3",
      "version": "3.8.8"
    },
    "colab": {
      "name": "ID3-21-Jan.ipynb",
      "provenance": [],
      "include_colab_link": true
    }
  },
  "cells": [
    {
      "cell_type": "markdown",
      "metadata": {
        "id": "view-in-github",
        "colab_type": "text"
      },
      "source": [
        "<a href=\"https://colab.research.google.com/github/dhairyaostwal/CSE4020-Codes/blob/main/ID3.ipynb\" target=\"_parent\"><img src=\"https://colab.research.google.com/assets/colab-badge.svg\" alt=\"Open In Colab\"/></a>"
      ]
    },
    {
      "cell_type": "markdown",
      "metadata": {
        "id": "e1a0a781"
      },
      "source": [
        "## Importing required Libraries"
      ],
      "id": "e1a0a781"
    },
    {
      "cell_type": "code",
      "metadata": {
        "id": "c67b09a2"
      },
      "source": [
        "import numpy as np\n",
        "import pandas as pd\n",
        "from sklearn.model_selection import train_test_split\n",
        "from sklearn.tree import DecisionTreeClassifier\n",
        "from sklearn.preprocessing import LabelEncoder # for encoding string labels"
      ],
      "id": "c67b09a2",
      "execution_count": 1,
      "outputs": []
    },
    {
      "cell_type": "code",
      "metadata": {
        "id": "jPXtTT4KXBZn",
        "colab": {
          "base_uri": "https://localhost:8080/",
          "height": 462
        },
        "outputId": "e00d7d07-2ba3-48d9-a4a2-9e918a906d3a"
      },
      "source": [
        "dataset=pd.read_csv('cancer-data.csv')\n",
        "print(\"The dataset is \")\n",
        "dataset"
      ],
      "id": "jPXtTT4KXBZn",
      "execution_count": 2,
      "outputs": [
        {
          "output_type": "stream",
          "name": "stdout",
          "text": [
            "The dataset is \n"
          ]
        },
        {
          "output_type": "execute_result",
          "data": {
            "text/html": [
              "\n",
              "  <div id=\"df-37114f90-8752-4b5e-8b1d-dab91c78a24b\">\n",
              "    <div class=\"colab-df-container\">\n",
              "      <div>\n",
              "<style scoped>\n",
              "    .dataframe tbody tr th:only-of-type {\n",
              "        vertical-align: middle;\n",
              "    }\n",
              "\n",
              "    .dataframe tbody tr th {\n",
              "        vertical-align: top;\n",
              "    }\n",
              "\n",
              "    .dataframe thead th {\n",
              "        text-align: right;\n",
              "    }\n",
              "</style>\n",
              "<table border=\"1\" class=\"dataframe\">\n",
              "  <thead>\n",
              "    <tr style=\"text-align: right;\">\n",
              "      <th></th>\n",
              "      <th>Id</th>\n",
              "      <th>WBC_area</th>\n",
              "      <th>WBC_convex_area</th>\n",
              "      <th>WBC_peri</th>\n",
              "      <th>ecc_wbc</th>\n",
              "      <th>solidity_wbc</th>\n",
              "      <th>orient_wbc</th>\n",
              "      <th>nuc_area</th>\n",
              "      <th>nuc_ratio</th>\n",
              "      <th>peri_nuc</th>\n",
              "      <th>round_nuc</th>\n",
              "      <th>ecc_nuc</th>\n",
              "      <th>solidity_nuc</th>\n",
              "      <th>convex_area_nuc</th>\n",
              "      <th>avg_cyt_re</th>\n",
              "      <th>avg_cyt_gr</th>\n",
              "      <th>avg_cyt_bl</th>\n",
              "      <th>entropy_cyt</th>\n",
              "      <th>minoraxis</th>\n",
              "      <th>majoraxis</th>\n",
              "      <th>minoraxis_nuc</th>\n",
              "      <th>majoraxis_nuc</th>\n",
              "      <th>axismeanratio</th>\n",
              "      <th>Diagnosis</th>\n",
              "      <th>Unnamed: 24</th>\n",
              "    </tr>\n",
              "  </thead>\n",
              "  <tbody>\n",
              "    <tr>\n",
              "      <th>0</th>\n",
              "      <td>1</td>\n",
              "      <td>10073</td>\n",
              "      <td>10170</td>\n",
              "      <td>397.525</td>\n",
              "      <td>0.471852</td>\n",
              "      <td>0.990462</td>\n",
              "      <td>84.266745</td>\n",
              "      <td>7670</td>\n",
              "      <td>0.761441</td>\n",
              "      <td>344.139</td>\n",
              "      <td>0.813837</td>\n",
              "      <td>0.557862</td>\n",
              "      <td>0.967213</td>\n",
              "      <td>7930</td>\n",
              "      <td>130.713275</td>\n",
              "      <td>123.667915</td>\n",
              "      <td>145.271328</td>\n",
              "      <td>-29.556808</td>\n",
              "      <td>108.497299</td>\n",
              "      <td>123.057794</td>\n",
              "      <td>90.427364</td>\n",
              "      <td>108.957290</td>\n",
              "      <td>1.718868</td>\n",
              "      <td>M</td>\n",
              "      <td>NaN</td>\n",
              "    </tr>\n",
              "    <tr>\n",
              "      <th>1</th>\n",
              "      <td>2</td>\n",
              "      <td>450</td>\n",
              "      <td>450</td>\n",
              "      <td>83.916</td>\n",
              "      <td>0.866025</td>\n",
              "      <td>1.000000</td>\n",
              "      <td>0.000000</td>\n",
              "      <td>204</td>\n",
              "      <td>0.453333</td>\n",
              "      <td>82.255</td>\n",
              "      <td>0.378892</td>\n",
              "      <td>0.854376</td>\n",
              "      <td>0.653846</td>\n",
              "      <td>312</td>\n",
              "      <td>115.975610</td>\n",
              "      <td>67.243902</td>\n",
              "      <td>140.126016</td>\n",
              "      <td>-3.650864</td>\n",
              "      <td>17.320508</td>\n",
              "      <td>34.641016</td>\n",
              "      <td>14.005658</td>\n",
              "      <td>26.951812</td>\n",
              "      <td>1.586649</td>\n",
              "      <td>B</td>\n",
              "      <td>NaN</td>\n",
              "    </tr>\n",
              "    <tr>\n",
              "      <th>2</th>\n",
              "      <td>3</td>\n",
              "      <td>10349</td>\n",
              "      <td>10506</td>\n",
              "      <td>413.412</td>\n",
              "      <td>0.211948</td>\n",
              "      <td>0.985056</td>\n",
              "      <td>-7.032837</td>\n",
              "      <td>8092</td>\n",
              "      <td>0.781911</td>\n",
              "      <td>327.046</td>\n",
              "      <td>0.950710</td>\n",
              "      <td>0.208166</td>\n",
              "      <td>0.982993</td>\n",
              "      <td>8232</td>\n",
              "      <td>135.955693</td>\n",
              "      <td>129.935312</td>\n",
              "      <td>144.863093</td>\n",
              "      <td>-25.080685</td>\n",
              "      <td>116.237091</td>\n",
              "      <td>118.939275</td>\n",
              "      <td>100.504110</td>\n",
              "      <td>102.755103</td>\n",
              "      <td>1.728577</td>\n",
              "      <td>M</td>\n",
              "      <td>NaN</td>\n",
              "    </tr>\n",
              "    <tr>\n",
              "      <th>3</th>\n",
              "      <td>4</td>\n",
              "      <td>10827</td>\n",
              "      <td>10862</td>\n",
              "      <td>401.949</td>\n",
              "      <td>0.215046</td>\n",
              "      <td>0.996778</td>\n",
              "      <td>-56.467459</td>\n",
              "      <td>8326</td>\n",
              "      <td>0.769003</td>\n",
              "      <td>355.255</td>\n",
              "      <td>0.829022</td>\n",
              "      <td>0.184138</td>\n",
              "      <td>0.968928</td>\n",
              "      <td>8593</td>\n",
              "      <td>131.139544</td>\n",
              "      <td>122.655338</td>\n",
              "      <td>143.148741</td>\n",
              "      <td>-29.023241</td>\n",
              "      <td>118.451811</td>\n",
              "      <td>121.289517</td>\n",
              "      <td>102.269262</td>\n",
              "      <td>104.048451</td>\n",
              "      <td>1.721235</td>\n",
              "      <td>M</td>\n",
              "      <td>NaN</td>\n",
              "    </tr>\n",
              "    <tr>\n",
              "      <th>4</th>\n",
              "      <td>5</td>\n",
              "      <td>3421</td>\n",
              "      <td>3470</td>\n",
              "      <td>247.499</td>\n",
              "      <td>0.884772</td>\n",
              "      <td>0.985879</td>\n",
              "      <td>-7.053928</td>\n",
              "      <td>2582</td>\n",
              "      <td>0.754750</td>\n",
              "      <td>217.886</td>\n",
              "      <td>0.683451</td>\n",
              "      <td>0.872292</td>\n",
              "      <td>0.982870</td>\n",
              "      <td>2627</td>\n",
              "      <td>150.808105</td>\n",
              "      <td>142.667461</td>\n",
              "      <td>176.097735</td>\n",
              "      <td>-15.562377</td>\n",
              "      <td>46.218970</td>\n",
              "      <td>99.177380</td>\n",
              "      <td>41.875873</td>\n",
              "      <td>85.638339</td>\n",
              "      <td>1.769519</td>\n",
              "      <td>M</td>\n",
              "      <td>NaN</td>\n",
              "    </tr>\n",
              "    <tr>\n",
              "      <th>5</th>\n",
              "      <td>6</td>\n",
              "      <td>9994</td>\n",
              "      <td>10131</td>\n",
              "      <td>387.535</td>\n",
              "      <td>0.396667</td>\n",
              "      <td>0.986477</td>\n",
              "      <td>42.123770</td>\n",
              "      <td>6968</td>\n",
              "      <td>0.697218</td>\n",
              "      <td>426.405</td>\n",
              "      <td>0.477784</td>\n",
              "      <td>0.295060</td>\n",
              "      <td>0.854934</td>\n",
              "      <td>8086</td>\n",
              "      <td>130.945142</td>\n",
              "      <td>91.728024</td>\n",
              "      <td>147.307336</td>\n",
              "      <td>-27.676933</td>\n",
              "      <td>110.133878</td>\n",
              "      <td>119.976460</td>\n",
              "      <td>96.100735</td>\n",
              "      <td>100.578608</td>\n",
              "      <td>1.710901</td>\n",
              "      <td>B</td>\n",
              "      <td>NaN</td>\n",
              "    </tr>\n",
              "    <tr>\n",
              "      <th>6</th>\n",
              "      <td>7</td>\n",
              "      <td>4497</td>\n",
              "      <td>4680</td>\n",
              "      <td>268.613</td>\n",
              "      <td>0.420730</td>\n",
              "      <td>0.960897</td>\n",
              "      <td>-58.870669</td>\n",
              "      <td>2682</td>\n",
              "      <td>0.596398</td>\n",
              "      <td>301.457</td>\n",
              "      <td>0.370867</td>\n",
              "      <td>0.244934</td>\n",
              "      <td>0.724669</td>\n",
              "      <td>3701</td>\n",
              "      <td>90.649587</td>\n",
              "      <td>58.960331</td>\n",
              "      <td>96.546006</td>\n",
              "      <td>-19.739489</td>\n",
              "      <td>73.175352</td>\n",
              "      <td>80.661909</td>\n",
              "      <td>67.075376</td>\n",
              "      <td>69.182689</td>\n",
              "      <td>1.774326</td>\n",
              "      <td>B</td>\n",
              "      <td>NaN</td>\n",
              "    </tr>\n",
              "    <tr>\n",
              "      <th>7</th>\n",
              "      <td>8</td>\n",
              "      <td>2614</td>\n",
              "      <td>2680</td>\n",
              "      <td>238.873</td>\n",
              "      <td>0.950766</td>\n",
              "      <td>0.975373</td>\n",
              "      <td>2.824963</td>\n",
              "      <td>2138</td>\n",
              "      <td>0.817904</td>\n",
              "      <td>221.772</td>\n",
              "      <td>0.546266</td>\n",
              "      <td>0.953980</td>\n",
              "      <td>0.959175</td>\n",
              "      <td>2229</td>\n",
              "      <td>132.686975</td>\n",
              "      <td>126.090336</td>\n",
              "      <td>151.857143</td>\n",
              "      <td>-10.420173</td>\n",
              "      <td>32.992914</td>\n",
              "      <td>106.459875</td>\n",
              "      <td>29.519554</td>\n",
              "      <td>98.441245</td>\n",
              "      <td>1.819403</td>\n",
              "      <td>M</td>\n",
              "      <td>NaN</td>\n",
              "    </tr>\n",
              "    <tr>\n",
              "      <th>8</th>\n",
              "      <td>9</td>\n",
              "      <td>15374</td>\n",
              "      <td>15509</td>\n",
              "      <td>483.833</td>\n",
              "      <td>0.461606</td>\n",
              "      <td>0.991295</td>\n",
              "      <td>-61.212402</td>\n",
              "      <td>10647</td>\n",
              "      <td>0.692533</td>\n",
              "      <td>448.494</td>\n",
              "      <td>0.665157</td>\n",
              "      <td>0.701106</td>\n",
              "      <td>0.905742</td>\n",
              "      <td>11755</td>\n",
              "      <td>143.154220</td>\n",
              "      <td>131.805585</td>\n",
              "      <td>163.624921</td>\n",
              "      <td>-39.614050</td>\n",
              "      <td>134.159292</td>\n",
              "      <td>151.236103</td>\n",
              "      <td>99.870830</td>\n",
              "      <td>140.060139</td>\n",
              "      <td>1.670522</td>\n",
              "      <td>M</td>\n",
              "      <td>NaN</td>\n",
              "    </tr>\n",
              "    <tr>\n",
              "      <th>9</th>\n",
              "      <td>10</td>\n",
              "      <td>10429</td>\n",
              "      <td>10465</td>\n",
              "      <td>398.327</td>\n",
              "      <td>0.681893</td>\n",
              "      <td>0.996560</td>\n",
              "      <td>87.209121</td>\n",
              "      <td>7555</td>\n",
              "      <td>0.724422</td>\n",
              "      <td>327.012</td>\n",
              "      <td>0.887804</td>\n",
              "      <td>0.731676</td>\n",
              "      <td>0.970331</td>\n",
              "      <td>7786</td>\n",
              "      <td>126.637787</td>\n",
              "      <td>112.096381</td>\n",
              "      <td>143.146486</td>\n",
              "      <td>-34.290171</td>\n",
              "      <td>100.538430</td>\n",
              "      <td>137.450459</td>\n",
              "      <td>81.419218</td>\n",
              "      <td>119.443817</td>\n",
              "      <td>1.678827</td>\n",
              "      <td>B</td>\n",
              "      <td>NaN</td>\n",
              "    </tr>\n",
              "  </tbody>\n",
              "</table>\n",
              "</div>\n",
              "      <button class=\"colab-df-convert\" onclick=\"convertToInteractive('df-37114f90-8752-4b5e-8b1d-dab91c78a24b')\"\n",
              "              title=\"Convert this dataframe to an interactive table.\"\n",
              "              style=\"display:none;\">\n",
              "        \n",
              "  <svg xmlns=\"http://www.w3.org/2000/svg\" height=\"24px\"viewBox=\"0 0 24 24\"\n",
              "       width=\"24px\">\n",
              "    <path d=\"M0 0h24v24H0V0z\" fill=\"none\"/>\n",
              "    <path d=\"M18.56 5.44l.94 2.06.94-2.06 2.06-.94-2.06-.94-.94-2.06-.94 2.06-2.06.94zm-11 1L8.5 8.5l.94-2.06 2.06-.94-2.06-.94L8.5 2.5l-.94 2.06-2.06.94zm10 10l.94 2.06.94-2.06 2.06-.94-2.06-.94-.94-2.06-.94 2.06-2.06.94z\"/><path d=\"M17.41 7.96l-1.37-1.37c-.4-.4-.92-.59-1.43-.59-.52 0-1.04.2-1.43.59L10.3 9.45l-7.72 7.72c-.78.78-.78 2.05 0 2.83L4 21.41c.39.39.9.59 1.41.59.51 0 1.02-.2 1.41-.59l7.78-7.78 2.81-2.81c.8-.78.8-2.07 0-2.86zM5.41 20L4 18.59l7.72-7.72 1.47 1.35L5.41 20z\"/>\n",
              "  </svg>\n",
              "      </button>\n",
              "      \n",
              "  <style>\n",
              "    .colab-df-container {\n",
              "      display:flex;\n",
              "      flex-wrap:wrap;\n",
              "      gap: 12px;\n",
              "    }\n",
              "\n",
              "    .colab-df-convert {\n",
              "      background-color: #E8F0FE;\n",
              "      border: none;\n",
              "      border-radius: 50%;\n",
              "      cursor: pointer;\n",
              "      display: none;\n",
              "      fill: #1967D2;\n",
              "      height: 32px;\n",
              "      padding: 0 0 0 0;\n",
              "      width: 32px;\n",
              "    }\n",
              "\n",
              "    .colab-df-convert:hover {\n",
              "      background-color: #E2EBFA;\n",
              "      box-shadow: 0px 1px 2px rgba(60, 64, 67, 0.3), 0px 1px 3px 1px rgba(60, 64, 67, 0.15);\n",
              "      fill: #174EA6;\n",
              "    }\n",
              "\n",
              "    [theme=dark] .colab-df-convert {\n",
              "      background-color: #3B4455;\n",
              "      fill: #D2E3FC;\n",
              "    }\n",
              "\n",
              "    [theme=dark] .colab-df-convert:hover {\n",
              "      background-color: #434B5C;\n",
              "      box-shadow: 0px 1px 3px 1px rgba(0, 0, 0, 0.15);\n",
              "      filter: drop-shadow(0px 1px 2px rgba(0, 0, 0, 0.3));\n",
              "      fill: #FFFFFF;\n",
              "    }\n",
              "  </style>\n",
              "\n",
              "      <script>\n",
              "        const buttonEl =\n",
              "          document.querySelector('#df-37114f90-8752-4b5e-8b1d-dab91c78a24b button.colab-df-convert');\n",
              "        buttonEl.style.display =\n",
              "          google.colab.kernel.accessAllowed ? 'block' : 'none';\n",
              "\n",
              "        async function convertToInteractive(key) {\n",
              "          const element = document.querySelector('#df-37114f90-8752-4b5e-8b1d-dab91c78a24b');\n",
              "          const dataTable =\n",
              "            await google.colab.kernel.invokeFunction('convertToInteractive',\n",
              "                                                     [key], {});\n",
              "          if (!dataTable) return;\n",
              "\n",
              "          const docLinkHtml = 'Like what you see? Visit the ' +\n",
              "            '<a target=\"_blank\" href=https://colab.research.google.com/notebooks/data_table.ipynb>data table notebook</a>'\n",
              "            + ' to learn more about interactive tables.';\n",
              "          element.innerHTML = '';\n",
              "          dataTable['output_type'] = 'display_data';\n",
              "          await google.colab.output.renderOutput(dataTable, element);\n",
              "          const docLink = document.createElement('div');\n",
              "          docLink.innerHTML = docLinkHtml;\n",
              "          element.appendChild(docLink);\n",
              "        }\n",
              "      </script>\n",
              "    </div>\n",
              "  </div>\n",
              "  "
            ],
            "text/plain": [
              "   Id  WBC_area  WBC_convex_area  ...  axismeanratio  Diagnosis  Unnamed: 24\n",
              "0   1     10073            10170  ...       1.718868          M          NaN\n",
              "1   2       450              450  ...       1.586649          B          NaN\n",
              "2   3     10349            10506  ...       1.728577          M          NaN\n",
              "3   4     10827            10862  ...       1.721235          M          NaN\n",
              "4   5      3421             3470  ...       1.769519          M          NaN\n",
              "5   6      9994            10131  ...       1.710901          B          NaN\n",
              "6   7      4497             4680  ...       1.774326          B          NaN\n",
              "7   8      2614             2680  ...       1.819403          M          NaN\n",
              "8   9     15374            15509  ...       1.670522          M          NaN\n",
              "9  10     10429            10465  ...       1.678827          B          NaN\n",
              "\n",
              "[10 rows x 25 columns]"
            ]
          },
          "metadata": {},
          "execution_count": 2
        }
      ]
    },
    {
      "cell_type": "markdown",
      "metadata": {
        "id": "6c67f491"
      },
      "source": [
        "## Loading Data"
      ],
      "id": "6c67f491"
    },
    {
      "cell_type": "code",
      "metadata": {
        "id": "01ef25db",
        "colab": {
          "base_uri": "https://localhost:8080/"
        },
        "outputId": "79f22108-6174-45e5-c570-203f0d20e59a"
      },
      "source": [
        "data = pd.read_csv('cancer-data.csv')\n",
        "print(\"Data is \")\n",
        "print(data)"
      ],
      "id": "01ef25db",
      "execution_count": 3,
      "outputs": [
        {
          "output_type": "stream",
          "name": "stdout",
          "text": [
            "Data is \n",
            "   Id  WBC_area  WBC_convex_area  ...  axismeanratio  Diagnosis  Unnamed: 24\n",
            "0   1     10073            10170  ...       1.718868          M          NaN\n",
            "1   2       450              450  ...       1.586649          B          NaN\n",
            "2   3     10349            10506  ...       1.728577          M          NaN\n",
            "3   4     10827            10862  ...       1.721235          M          NaN\n",
            "4   5      3421             3470  ...       1.769519          M          NaN\n",
            "5   6      9994            10131  ...       1.710901          B          NaN\n",
            "6   7      4497             4680  ...       1.774326          B          NaN\n",
            "7   8      2614             2680  ...       1.819403          M          NaN\n",
            "8   9     15374            15509  ...       1.670522          M          NaN\n",
            "9  10     10429            10465  ...       1.678827          B          NaN\n",
            "\n",
            "[10 rows x 25 columns]\n"
          ]
        }
      ]
    },
    {
      "cell_type": "markdown",
      "metadata": {
        "id": "d8bd839c"
      },
      "source": [
        "## X - Values"
      ],
      "id": "d8bd839c"
    },
    {
      "cell_type": "code",
      "source": [
        "features = [feat for feat in data]\n",
        "features.remove(\"Id\")\n",
        "features.remove(\"Unnamed: 24\")\n",
        "features.remove(\"Diagnosis\")\n",
        "\n",
        "features"
      ],
      "metadata": {
        "colab": {
          "base_uri": "https://localhost:8080/"
        },
        "id": "_S3w450hqV8z",
        "outputId": "c7f92f93-f342-4506-cd2f-fcb097e73755"
      },
      "id": "_S3w450hqV8z",
      "execution_count": 16,
      "outputs": [
        {
          "output_type": "execute_result",
          "data": {
            "text/plain": [
              "['WBC_area',\n",
              " 'WBC_convex_area',\n",
              " 'WBC_peri',\n",
              " 'ecc_wbc',\n",
              " 'solidity_wbc',\n",
              " 'orient_wbc',\n",
              " 'nuc_area',\n",
              " 'nuc_ratio',\n",
              " 'peri_nuc',\n",
              " 'round_nuc',\n",
              " 'ecc_nuc',\n",
              " 'solidity_nuc',\n",
              " 'convex_area_nuc',\n",
              " 'avg_cyt_re',\n",
              " 'avg_cyt_gr',\n",
              " 'avg_cyt_bl',\n",
              " 'entropy_cyt',\n",
              " 'minoraxis',\n",
              " 'majoraxis',\n",
              " 'minoraxis_nuc',\n",
              " 'majoraxis_nuc',\n",
              " 'axismeanratio']"
            ]
          },
          "metadata": {},
          "execution_count": 16
        }
      ]
    },
    {
      "cell_type": "code",
      "source": [
        "X = data[features]\n",
        "print(X)"
      ],
      "metadata": {
        "colab": {
          "base_uri": "https://localhost:8080/"
        },
        "id": "V9TMcSfZqzpN",
        "outputId": "35b06593-df43-495c-eeae-6d561e205caf"
      },
      "id": "V9TMcSfZqzpN",
      "execution_count": 18,
      "outputs": [
        {
          "output_type": "stream",
          "name": "stdout",
          "text": [
            "   WBC_area  WBC_convex_area  ...  majoraxis_nuc  axismeanratio\n",
            "0     10073            10170  ...     108.957290       1.718868\n",
            "1       450              450  ...      26.951812       1.586649\n",
            "2     10349            10506  ...     102.755103       1.728577\n",
            "3     10827            10862  ...     104.048451       1.721235\n",
            "4      3421             3470  ...      85.638339       1.769519\n",
            "5      9994            10131  ...     100.578608       1.710901\n",
            "6      4497             4680  ...      69.182689       1.774326\n",
            "7      2614             2680  ...      98.441245       1.819403\n",
            "8     15374            15509  ...     140.060139       1.670522\n",
            "9     10429            10465  ...     119.443817       1.678827\n",
            "\n",
            "[10 rows x 22 columns]\n"
          ]
        }
      ]
    },
    {
      "cell_type": "markdown",
      "metadata": {
        "id": "3d674f0b"
      },
      "source": [
        "## Y - Values"
      ],
      "id": "3d674f0b"
    },
    {
      "cell_type": "code",
      "metadata": {
        "id": "802d0b0c",
        "colab": {
          "base_uri": "https://localhost:8080/"
        },
        "outputId": "fdbd2b91-9058-4649-b92d-70c47747ff5f"
      },
      "source": [
        "y = data['Diagnosis']\n",
        "print(\"The value of Y is\")\n",
        "print(y)"
      ],
      "id": "802d0b0c",
      "execution_count": 19,
      "outputs": [
        {
          "output_type": "stream",
          "name": "stdout",
          "text": [
            "The value of Y is\n",
            "0    M\n",
            "1    B\n",
            "2    M\n",
            "3    M\n",
            "4    M\n",
            "5    B\n",
            "6    B\n",
            "7    M\n",
            "8    M\n",
            "9    B\n",
            "Name: Diagnosis, dtype: object\n"
          ]
        }
      ]
    },
    {
      "cell_type": "markdown",
      "metadata": {
        "id": "dd6e641f"
      },
      "source": [
        "## Splitting data for training and testing"
      ],
      "id": "dd6e641f"
    },
    {
      "cell_type": "code",
      "metadata": {
        "id": "890f3deb"
      },
      "source": [
        "X_train, X_test, y_train, y_test = train_test_split(X, y, test_size = 0.25, random_state = 0)"
      ],
      "id": "890f3deb",
      "execution_count": 30,
      "outputs": []
    },
    {
      "cell_type": "markdown",
      "metadata": {
        "id": "23b42c24"
      },
      "source": [
        "## Creating object for model"
      ],
      "id": "23b42c24"
    },
    {
      "cell_type": "code",
      "metadata": {
        "id": "b96d9163",
        "colab": {
          "base_uri": "https://localhost:8080/"
        },
        "outputId": "d8c55f5f-5e6c-4751-bee7-d5c9335195b6"
      },
      "source": [
        "from sklearn.tree import DecisionTreeClassifier\n",
        "\n",
        "classifier = DecisionTreeClassifier(criterion = 'entropy', random_state = 0) \n",
        "classifier.fit(X_train, y_train)"
      ],
      "id": "b96d9163",
      "execution_count": 31,
      "outputs": [
        {
          "output_type": "execute_result",
          "data": {
            "text/plain": [
              "DecisionTreeClassifier(criterion='entropy', random_state=0)"
            ]
          },
          "metadata": {},
          "execution_count": 31
        }
      ]
    },
    {
      "cell_type": "markdown",
      "metadata": {
        "id": "8da91bde"
      },
      "source": [
        "## Predicting Values"
      ],
      "id": "8da91bde"
    },
    {
      "cell_type": "code",
      "metadata": {
        "id": "afbe0177",
        "colab": {
          "base_uri": "https://localhost:8080/"
        },
        "outputId": "2db7d9f4-cd90-4017-d27f-5db25dc73ce4"
      },
      "source": [
        "print(\"Predicted values by model\")\n",
        "print(classifier.predict(X_test))\n",
        "print(\"Y-Test values\")\n",
        "print(y_test.values)"
      ],
      "id": "afbe0177",
      "execution_count": 36,
      "outputs": [
        {
          "output_type": "stream",
          "name": "stdout",
          "text": [
            "Predicted values by model\n",
            "['M' 'M' 'M']\n",
            "Y-Test values\n",
            "['M' 'M' 'M']\n"
          ]
        }
      ]
    },
    {
      "cell_type": "code",
      "source": [
        "y_pred = classifier.predict(X_test)"
      ],
      "metadata": {
        "id": "vlOG861mNgJ5"
      },
      "id": "vlOG861mNgJ5",
      "execution_count": 37,
      "outputs": []
    },
    {
      "cell_type": "code",
      "source": [
        "from sklearn.metrics import confusion_matrix\n",
        "cm = confusion_matrix(y_test, y_pred)\n",
        "cm"
      ],
      "metadata": {
        "colab": {
          "base_uri": "https://localhost:8080/"
        },
        "id": "HOOEf_YYNtyN",
        "outputId": "566266a4-d40a-4f35-a2a0-fb626d2268ae"
      },
      "id": "HOOEf_YYNtyN",
      "execution_count": 38,
      "outputs": [
        {
          "output_type": "execute_result",
          "data": {
            "text/plain": [
              "array([[3]])"
            ]
          },
          "metadata": {},
          "execution_count": 38
        }
      ]
    },
    {
      "cell_type": "code",
      "metadata": {
        "id": "c3d94e5f",
        "colab": {
          "base_uri": "https://localhost:8080/"
        },
        "outputId": "2bd199c3-3860-4755-8016-d07d38dea5c6"
      },
      "source": [
        "print(\"The score of model is\")\n",
        "print(classifier.score(X_test,y_test))"
      ],
      "id": "c3d94e5f",
      "execution_count": 40,
      "outputs": [
        {
          "output_type": "stream",
          "name": "stdout",
          "text": [
            "The score of model is\n",
            "1.0\n"
          ]
        }
      ]
    }
  ]
}