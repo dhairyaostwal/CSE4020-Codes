{
  "nbformat": 4,
  "nbformat_minor": 0,
  "metadata": {
    "colab": {
      "name": "Find S Algo",
      "provenance": [],
      "authorship_tag": "ABX9TyP4EE+uCpZFZ+lkeRijIXgL",
      "include_colab_link": true
    },
    "kernelspec": {
      "name": "python3",
      "display_name": "Python 3"
    },
    "language_info": {
      "name": "python"
    }
  },
  "cells": [
    {
      "cell_type": "markdown",
      "metadata": {
        "id": "view-in-github",
        "colab_type": "text"
      },
      "source": [
        "<a href=\"https://colab.research.google.com/github/dhairyaostwal/CSE4020-Codes/blob/main/Find_S_Algo.ipynb\" target=\"_parent\"><img src=\"https://colab.research.google.com/assets/colab-badge.svg\" alt=\"Open In Colab\"/></a>"
      ]
    },
    {
      "cell_type": "markdown",
      "source": [
        "## Lab Assessment 1\n",
        "\n",
        "Computing Specific Hypothesis for the given data"
      ],
      "metadata": {
        "id": "SLt9_jAH2Log"
      }
    },
    {
      "cell_type": "code",
      "execution_count": 1,
      "metadata": {
        "id": "ODJ3ScVQzJHl"
      },
      "outputs": [],
      "source": [
        "import pandas as pd\n",
        "import numpy as np\n",
        " "
      ]
    },
    {
      "cell_type": "code",
      "source": [
        "#to read the data in the csv file\n",
        "data = pd.read_csv(\"data.csv\")\n",
        "print(data)\n",
        " "
      ],
      "metadata": {
        "colab": {
          "base_uri": "https://localhost:8080/"
        },
        "id": "Pxz-DPIuz2b6",
        "outputId": "3780765c-6007-4791-c9d4-86d9738ec15a"
      },
      "execution_count": 7,
      "outputs": [
        {
          "output_type": "stream",
          "name": "stdout",
          "text": [
            "      Time Weather Temperature Company Humidity    Wind Goes\n",
            "0  Morning   Sunny        Warm     Yes     Mild  Strong  Yes\n",
            "1  Evening   Rainy        Cold      No     Mild  Normal   No\n",
            "2  Morning   Sunny    Moderate     Yes   Normal  Normal  Yes\n",
            "3  Evening   Sunny        Cold     Yes     High  Strong  Yes\n"
          ]
        }
      ]
    },
    {
      "cell_type": "code",
      "source": [
        "#making an array of all the attributes\n",
        "d = np.array(data)[:,:-1]\n",
        "print(\"The attributes are: \\n\",d)"
      ],
      "metadata": {
        "colab": {
          "base_uri": "https://localhost:8080/"
        },
        "id": "HKYUIADjz4hP",
        "outputId": "8b17eb3f-e5b8-4e1c-8cf7-a3bc03cefda2"
      },
      "execution_count": 9,
      "outputs": [
        {
          "output_type": "stream",
          "name": "stdout",
          "text": [
            "The attributes are: \n",
            " [['Morning' 'Sunny' 'Warm' 'Yes' 'Mild' 'Strong']\n",
            " ['Evening' 'Rainy' 'Cold' 'No' 'Mild' 'Normal']\n",
            " ['Morning' 'Sunny' 'Moderate' 'Yes' 'Normal' 'Normal']\n",
            " ['Evening' 'Sunny' 'Cold' 'Yes' 'High' 'Strong']]\n"
          ]
        }
      ]
    },
    {
      "cell_type": "code",
      "source": [
        "#segragating the target that has positive and negative examples\n",
        "target = np.array(data)[:,-1] # Goes column\n",
        "print(\"The target is: \",target)"
      ],
      "metadata": {
        "colab": {
          "base_uri": "https://localhost:8080/"
        },
        "id": "VhgRrPU6z9MM",
        "outputId": "ba89298d-69b7-4b5c-cc21-7ffcb24528d8"
      },
      "execution_count": 10,
      "outputs": [
        {
          "output_type": "stream",
          "name": "stdout",
          "text": [
            "The target is:  ['Yes' 'No' 'Yes' 'Yes']\n"
          ]
        }
      ]
    },
    {
      "cell_type": "code",
      "source": [
        "#training function to implement find-s algorithm\n",
        "def train(c,t):\n",
        "    for i, val in enumerate(t):\n",
        "        if val == \"Yes\":\n",
        "            specific_hypothesis = c[i].copy()\n",
        "            break\n",
        "             \n",
        "    for i, val in enumerate(c):\n",
        "        if t[i] == \"Yes\":\n",
        "            for x in range(len(specific_hypothesis)):\n",
        "                if val[x] != specific_hypothesis[x]:\n",
        "                    specific_hypothesis[x] = '?'\n",
        "                else:\n",
        "                    pass\n",
        "                 \n",
        "    return specific_hypothesis"
      ],
      "metadata": {
        "id": "0Wqqea4l0DOk"
      },
      "execution_count": 11,
      "outputs": []
    },
    {
      "cell_type": "code",
      "source": [
        "#obtaining the final hypothesis\n",
        "print(\"n The final hypothesis is:\",train(d,target))"
      ],
      "metadata": {
        "colab": {
          "base_uri": "https://localhost:8080/"
        },
        "id": "_nSG0afF0Fzs",
        "outputId": "e49d2b0d-31f7-4204-c55e-c6e4bc92a735"
      },
      "execution_count": 12,
      "outputs": [
        {
          "output_type": "stream",
          "name": "stdout",
          "text": [
            "n The final hypothesis is: ['?' 'Sunny' '?' 'Yes' '?' '?']\n"
          ]
        }
      ]
    },
    {
      "cell_type": "markdown",
      "source": [
        "### Trying with another dataset"
      ],
      "metadata": {
        "id": "e3CCDHAx2KPE"
      }
    },
    {
      "cell_type": "code",
      "source": [
        "data = pd.read_csv(\"[ML]-Specific-Hypothesis-Data - Sheet1.csv\")\n",
        "print(data)"
      ],
      "metadata": {
        "colab": {
          "base_uri": "https://localhost:8080/"
        },
        "id": "8k-LXNdp2hCq",
        "outputId": "d14a713a-5f42-4eed-d9ea-3f27e14baf81"
      },
      "execution_count": 13,
      "outputs": [
        {
          "output_type": "stream",
          "name": "stdout",
          "text": [
            "   Paper Citation    Size Library      Price Edition  Buy\n",
            "0      1      Low   Small      No      Cheap    Many   No\n",
            "1      2     High   Large      No  Expensive     One  Yes\n",
            "2      3      Low   Large     Yes  Expensive     Few   No\n",
            "3      4     High  Medium      No  Expensive    Many  Yes\n",
            "4      5     High   Small      No      Cheap    Many  Yes\n"
          ]
        }
      ]
    },
    {
      "cell_type": "code",
      "source": [
        "#making an array of all the attributes\n",
        "d = np.array(data)[:,:-1]\n",
        "print(\"The attributes are: \\n\",d)"
      ],
      "metadata": {
        "colab": {
          "base_uri": "https://localhost:8080/"
        },
        "id": "xofgfTTO3vqJ",
        "outputId": "1b9f288e-6a6d-4191-cab0-84b7a2650b73"
      },
      "execution_count": 14,
      "outputs": [
        {
          "output_type": "stream",
          "name": "stdout",
          "text": [
            "The attributes are: \n",
            " [[1 'Low' 'Small' 'No' 'Cheap' 'Many']\n",
            " [2 'High' 'Large' 'No' 'Expensive' 'One']\n",
            " [3 'Low' 'Large' 'Yes' 'Expensive' 'Few']\n",
            " [4 'High' 'Medium' 'No' 'Expensive' 'Many']\n",
            " [5 'High' 'Small' 'No' 'Cheap' 'Many']]\n"
          ]
        }
      ]
    },
    {
      "cell_type": "code",
      "source": [
        "#segragating the target that has positive and negative examples\n",
        "target = np.array(data)[:,-1] # Buy column\n",
        "print(\"The target is: \",target)"
      ],
      "metadata": {
        "colab": {
          "base_uri": "https://localhost:8080/"
        },
        "id": "wH3LxusF30WB",
        "outputId": "3e8d1313-756f-4de8-b08f-9b250dbd3dce"
      },
      "execution_count": 15,
      "outputs": [
        {
          "output_type": "stream",
          "name": "stdout",
          "text": [
            "The target is:  ['No' 'Yes' 'No' 'Yes' 'Yes']\n"
          ]
        }
      ]
    },
    {
      "cell_type": "code",
      "source": [
        "#using the above Train function"
      ],
      "metadata": {
        "id": "v0F4EIr633Cz"
      },
      "execution_count": 16,
      "outputs": []
    },
    {
      "cell_type": "code",
      "source": [
        "#obtaining the final hypothesis\n",
        "print(\"The final hypothesis is:\",train(d,target))"
      ],
      "metadata": {
        "colab": {
          "base_uri": "https://localhost:8080/"
        },
        "id": "spGRU9jv3_Qj",
        "outputId": "92eb276b-80ab-4405-f272-ba49ffb0e101"
      },
      "execution_count": 18,
      "outputs": [
        {
          "output_type": "stream",
          "name": "stdout",
          "text": [
            "The final hypothesis is: ['?' 'High' '?' 'No' '?' '?']\n"
          ]
        }
      ]
    }
  ]
}